{
 "cells": [
  {
   "cell_type": "markdown",
   "metadata": {},
   "source": [
    "<div style=\"text-align: center;\">\n",
    "  <img src=\"https://github.com/Hack-io-Data/Imagenes/blob/main/01-LogosHackio/logo_celeste@4x.png?raw=true\" alt=\"logo hack(io)\" />\n",
    "</div>"
   ]
  },
  {
   "cell_type": "markdown",
   "metadata": {},
   "source": [
    "####  1. Genera una lista de números del 0 al 4 y luego imprime cada número en la lista usando un `bucle for`. "
   ]
  },
  {
   "cell_type": "code",
   "execution_count": 1,
   "metadata": {},
   "outputs": [
    {
     "name": "stdout",
     "output_type": "stream",
     "text": [
      "0\n",
      "1\n",
      "2\n",
      "3\n",
      "4\n"
     ]
    }
   ],
   "source": [
    "numeros = [0, 1, 2, 3, 4]\n",
    "\n",
    "for i in numeros:\n",
    "    print(i)"
   ]
  },
  {
   "cell_type": "markdown",
   "metadata": {},
   "source": [
    "#### 2. Itera sobre una lista de frutas y muestra cada fruta en mayúsculas. \n"
   ]
  },
  {
   "cell_type": "code",
   "execution_count": 3,
   "metadata": {},
   "outputs": [
    {
     "name": "stdout",
     "output_type": "stream",
     "text": [
      "NARANJA\n",
      "PERAS\n",
      "MANZANA\n",
      "KIWI\n"
     ]
    }
   ],
   "source": [
    "frutas = [\"naranja\", \"peras\", \"manzana\", \"kiwi\"]\n",
    "\n",
    "for i in frutas:\n",
    "    print(i.upper())"
   ]
  },
  {
   "cell_type": "markdown",
   "metadata": {},
   "source": [
    "####  3. Genera un bucle while que imprima los números del 0 al 4. \n"
   ]
  },
  {
   "cell_type": "code",
   "execution_count": 6,
   "metadata": {},
   "outputs": [
    {
     "name": "stdout",
     "output_type": "stream",
     "text": [
      "0\n",
      "1\n",
      "2\n",
      "3\n",
      "4\n"
     ]
    }
   ],
   "source": [
    "numeros = 0\n",
    "\n",
    "while numeros <= 4:\n",
    "    print(numeros)\n",
    "    numeros += 1"
   ]
  },
  {
   "cell_type": "markdown",
   "metadata": {},
   "source": [
    "#### 4. Genera un bucle del 0 al 9, pero que se detenga en el 5.\n"
   ]
  },
  {
   "cell_type": "code",
   "execution_count": 7,
   "metadata": {},
   "outputs": [
    {
     "name": "stdout",
     "output_type": "stream",
     "text": [
      "0\n",
      "1\n",
      "2\n",
      "3\n",
      "4\n"
     ]
    }
   ],
   "source": [
    "for numero in range(10):\n",
    "    if numero == 5:\n",
    "        break \n",
    "    print(numero)"
   ]
  },
  {
   "cell_type": "markdown",
   "metadata": {},
   "source": [
    "#### 5. Recorre los números del 0 al 9 e imprime solo los números impares."
   ]
  },
  {
   "cell_type": "code",
   "execution_count": null,
   "metadata": {},
   "outputs": [],
   "source": [
    "for numero in range(10):\n",
    "    if numero % 2 != 0:\n",
    "        print(numero)"
   ]
  },
  {
   "cell_type": "markdown",
   "metadata": {},
   "source": [
    "#### 6. Dada la lista `[10, 20, 30, 40, 50]`, calcula la suma de todos los elementos usando un bucle `for`."
   ]
  },
  {
   "cell_type": "code",
   "execution_count": 9,
   "metadata": {},
   "outputs": [
    {
     "name": "stdout",
     "output_type": "stream",
     "text": [
      "150\n"
     ]
    }
   ],
   "source": [
    "lista_numeros = [10, 20, 30, 40, 50]\n",
    "\n",
    "suma = 0\n",
    "\n",
    "# Bucle for para recorrer la lista\n",
    "for numero in lista_numeros:\n",
    "    suma += numero  # Sumar cada elemento al total\n",
    "\n",
    "# Imprimir el resultado\n",
    "print(suma)"
   ]
  },
  {
   "cell_type": "markdown",
   "metadata": {},
   "source": [
    "#### 7. Dada la cadena `\"Hola mundo\"`, cuenta cuántas veces aparecen las vocales (`a`, `e`, `i`, `o`, `u`) usando un bucle `for`.\n"
   ]
  },
  {
   "cell_type": "code",
   "execution_count": 10,
   "metadata": {},
   "outputs": [
    {
     "name": "stdout",
     "output_type": "stream",
     "text": [
      "4\n"
     ]
    }
   ],
   "source": [
    "cadena = \"Hola mundo\"\n",
    "\n",
    "contador_vocales = 0\n",
    "\n",
    "for caracter in cadena.lower():\n",
    "    if caracter in \"aeiou\":\n",
    "        contador_vocales += 1\n",
    "\n",
    "print(contador_vocales)"
   ]
  },
  {
   "cell_type": "markdown",
   "metadata": {},
   "source": [
    "#### 8. Dada la cadena `\"Python\"`, usa un bucle `for` para imprimir los caracteres en orden inverso (`n`, `o`, `h`, `t`, `y`, `P`).\n"
   ]
  },
  {
   "cell_type": "code",
   "execution_count": 11,
   "metadata": {},
   "outputs": [
    {
     "name": "stdout",
     "output_type": "stream",
     "text": [
      "n\n",
      "o\n",
      "h\n",
      "t\n",
      "y\n",
      "P\n"
     ]
    }
   ],
   "source": [
    "cadena = \"Python\"\n",
    "\n",
    "for caracter in reversed(cadena):\n",
    "    print(caracter)"
   ]
  },
  {
   "cell_type": "markdown",
   "metadata": {},
   "source": [
    "#### 9. Dada la lista `[1, 2, 3, 4, 5]`, multiplica todos sus elementos usando un bucle `for` y almacena los resultados en una lista nueva. \n"
   ]
  },
  {
   "cell_type": "code",
   "execution_count": 14,
   "metadata": {},
   "outputs": [
    {
     "name": "stdout",
     "output_type": "stream",
     "text": [
      "Productos acumulados: [1, 2, 6, 24, 120]\n"
     ]
    }
   ],
   "source": [
    "numeros = [1, 2, 3, 4, 5]\n",
    "\n",
    "resultados = []\n",
    "\n",
    "producto = 1\n",
    "\n",
    "for numero in numeros:\n",
    "    producto *= numero\n",
    "    resultados.append(producto)\n",
    "\n",
    "print(\"Productos acumulados:\", resultados)\n"
   ]
  },
  {
   "cell_type": "markdown",
   "metadata": {},
   "source": [
    "#### 10. Dada la lista `[1, 2, 3, 4, 5, 6, 7, 8, 9, 10]`, utiliza un bucle `for` para contar cuántos números son pares y cuántos son impares."
   ]
  },
  {
   "cell_type": "code",
   "execution_count": null,
   "metadata": {},
   "outputs": [
    {
     "name": "stdout",
     "output_type": "stream",
     "text": [
      "Números pares: 5\n",
      "Números impares: 5\n"
     ]
    }
   ],
   "source": [
    "numeros = [1, 2, 3, 4, 5, 6, 7, 8, 9, 10]\n",
    "\n",
    "pares = 0\n",
    "impares = 0\n",
    "\n",
    "for numero in numeros:\n",
    "    if numero % 2 == 0:  # Verificar si el número es par\n",
    "        pares += 1\n",
    "    else:  # Si no es par, es impar\n",
    "        impares += 1\n",
    "\n",
    "print(f\"Números pares: {pares}\")\n",
    "print(f\"Números impares: {impares}\")\n"
   ]
  },
  {
   "cell_type": "markdown",
   "metadata": {},
   "source": [
    "#### 11. Escribe un programa que solicite al usuario un número entero positivo (`n`) y calcule la suma de todos los números primos menores o iguales a `n`. Utiliza un bucle `for` para iterar sobre cada número y verifica si es primo."
   ]
  },
  {
   "cell_type": "code",
   "execution_count": 4,
   "metadata": {},
   "outputs": [
    {
     "name": "stdout",
     "output_type": "stream",
     "text": [
      "La suma de los números primos menores o iguales a 10 es: 17\n"
     ]
    }
   ],
   "source": [
    "# Solicitar al usuario un número entero positivo\n",
    "n = int(input(\"Introduce un número entero positivo: \"))\n",
    "\n",
    "# Inicializar la suma de números primos\n",
    "suma_primos = 0\n",
    "\n",
    "# Bucle para iterar desde 2 hasta n\n",
    "for numero in range(2, n + 1):\n",
    "    es_primo = True  # Suponer que el número es primo\n",
    "    # Verificar si el número tiene divisores (excepto 1 y él mismo)\n",
    "    for i in range(2, numero):\n",
    "        if numero % i == 0:  # Si tiene un divisor, no es primo\n",
    "            es_primo = False\n",
    "            break  # Detener el bucle interno\n",
    "    # Si el número es primo, añadirlo a la suma\n",
    "    if es_primo:\n",
    "        suma_primos += numero\n",
    "\n",
    "# Imprimir el resultado\n",
    "print(f\"La suma de los números primos menores o iguales a {n} es: {suma_primos}\")"
   ]
  },
  {
   "cell_type": "markdown",
   "metadata": {},
   "source": [
    "#### 12. Escribe un programa que solicite al usuario un número entero positivo (`n`) y luego imprima un patrón de asteriscos como el siguiente ejemplo para `n = 5`:\n",
    "```\n",
    "*\n",
    "**\n",
    "***\n",
    "****\n",
    "*****\n",
    "```\n",
    "Utiliza un bucle `for` anidado para controlar la cantidad de asteriscos en cada línea."
   ]
  },
  {
   "cell_type": "code",
   "execution_count": 5,
   "metadata": {},
   "outputs": [
    {
     "name": "stdout",
     "output_type": "stream",
     "text": [
      "*\n",
      "**\n",
      "***\n",
      "****\n",
      "*****\n",
      "******\n"
     ]
    }
   ],
   "source": [
    "# Solicitar un número entero positivo al usuario\n",
    "n = int(input(\"Introduce un número entero positivo: \"))\n",
    "\n",
    "# Generar el patrón de asteriscos\n",
    "for i in range(1, n + 1):  # Controlar el número de líneas\n",
    "    for j in range(i):  # Controlar la cantidad de asteriscos en cada línea\n",
    "        print(\"*\", end=\"\")  # Imprimir asteriscos en la misma línea\n",
    "    print()  # Imprimir un salto de línea al finalizar cada fila"
   ]
  },
  {
   "cell_type": "markdown",
   "metadata": {},
   "source": [
    "#### 13. Dado un texto, utiliza un bucle `for` para contar cuántas veces aparece cada palabra en el texto. Ignora mayúsculas/minúsculas y los signos de puntuación."
   ]
  },
  {
   "cell_type": "code",
   "execution_count": 6,
   "metadata": {},
   "outputs": [
    {
     "name": "stdout",
     "output_type": "stream",
     "text": [
      "Conteo de palabras:\n",
      "me: 1\n",
      "gustan: 1\n",
      "mucho: 1\n",
      "las: 2\n",
      "frutas: 2\n",
      "porque: 1\n",
      "son: 1\n",
      "dulces: 1\n"
     ]
    }
   ],
   "source": [
    "# Solicitar el texto al usuario\n",
    "texto = input(\"Introduce un texto: \")\n",
    "\n",
    "# Limpiar el texto: convertir a minúsculas y eliminar signos de puntuación\n",
    "texto_limpio = texto.lower()\n",
    "signos_puntuacion = \",.!?;:\"\n",
    "for signo in signos_puntuacion:\n",
    "    texto_limpio = texto_limpio.replace(signo, \"\")\n",
    "\n",
    "# Dividir el texto en palabras\n",
    "palabras = texto_limpio.split()\n",
    "\n",
    "# Contar las palabras usando un diccionario\n",
    "conteo = {}\n",
    "\n",
    "for palabra in palabras:\n",
    "    if palabra in conteo:\n",
    "        conteo[palabra] += 1  # Incrementar el conteo si la palabra ya está en el diccionario\n",
    "    else:\n",
    "        conteo[palabra] = 1  # Agregar la palabra al diccionario con un conteo inicial de 1\n",
    "\n",
    "# Imprimir el conteo de palabras\n",
    "print(\"Conteo de palabras:\")\n",
    "for palabra, cantidad in conteo.items():\n",
    "    print(f\"{palabra}: {cantidad}\")\n"
   ]
  },
  {
   "cell_type": "markdown",
   "metadata": {},
   "source": [
    "#### 14. Escribe un programa que solicite al usuario dos números enteros positivos (`inicio` y `fin`, donde `inicio <= fin`) y luego calcule la suma de los números pares y la suma de los números impares en ese rango. Utiliza un bucle `for` para iterar sobre cada número y una estructura `if-else` para clasificar y sumar los números pares e impares."
   ]
  },
  {
   "cell_type": "code",
   "execution_count": 7,
   "metadata": {},
   "outputs": [
    {
     "name": "stdout",
     "output_type": "stream",
     "text": [
      "La suma de los números pares en el rango [7, 10] es: 18\n",
      "La suma de los números impares en el rango [7, 10] es: 16\n"
     ]
    }
   ],
   "source": [
    "# Solicitar los números al usuario\n",
    "inicio = int(input(\"Introduce el número inicial (entero positivo): \"))\n",
    "fin = int(input(\"Introduce el número final (entero positivo, mayor o igual al inicial): \"))\n",
    "\n",
    "# Verificar que inicio <= fin\n",
    "if inicio > fin:\n",
    "    print(\"El número inicial debe ser menor o igual al número final.\")\n",
    "else:\n",
    "    # Inicializar las sumas\n",
    "    suma_pares = 0\n",
    "    suma_impares = 0\n",
    "\n",
    "    # Bucle para iterar en el rango\n",
    "    for numero in range(inicio, fin + 1):\n",
    "        if numero % 2 == 0:  # Si es par\n",
    "            suma_pares += numero\n",
    "        else:  # Si es impar\n",
    "            suma_impares += numero\n",
    "\n",
    "    # Imprimir los resultados\n",
    "    print(f\"La suma de los números pares en el rango [{inicio}, {fin}] es: {suma_pares}\")\n",
    "    print(f\"La suma de los números impares en el rango [{inicio}, {fin}] es: {suma_impares}\")"
   ]
  },
  {
   "cell_type": "markdown",
   "metadata": {},
   "source": [
    "#### 15. Escribe un programa que solicite al usuario un número entero positivo (`n`) y luego identifique todos los números primos menores o iguales a `n`. Para cada número, imprime si es primo o no usando un bucle `for` y una estructura `if-else` para verificar la condición de primalidad."
   ]
  },
  {
   "cell_type": "code",
   "execution_count": 8,
   "metadata": {},
   "outputs": [
    {
     "name": "stdout",
     "output_type": "stream",
     "text": [
      "2 es primo.\n",
      "3 es primo.\n",
      "4 no es primo.\n",
      "5 es primo.\n",
      "6 no es primo.\n",
      "7 es primo.\n"
     ]
    }
   ],
   "source": [
    "# Solicitar un número entero positivo al usuario\n",
    "n = int(input(\"Introduce un número entero positivo: \"))\n",
    "\n",
    "# Iterar sobre cada número del 2 hasta n\n",
    "for numero in range(2, n + 1):  # Empezamos en 2 porque 0 y 1 no son primos\n",
    "    es_primo = True  # Suponer que el número es primo\n",
    "    # Verificar si el número tiene divisores\n",
    "    for i in range(2, numero):\n",
    "        if numero % i == 0:  # Si tiene un divisor, no es primo\n",
    "            es_primo = False\n",
    "            break\n",
    "    # Imprimir si es primo o no\n",
    "    if es_primo:\n",
    "        print(f\"{numero} es primo.\")\n",
    "    else:\n",
    "        print(f\"{numero} no es primo.\")"
   ]
  },
  {
   "cell_type": "markdown",
   "metadata": {},
   "source": [
    "#### 16.Dada una lista de precios `[100, 200, 300, 400, 500]`, aplica un descuento del 10% a todos los precios mayores a `250`. Imprime la lista actualizada de precios después de aplicar el descuento utilizando un bucle `for`. "
   ]
  },
  {
   "cell_type": "code",
   "execution_count": 9,
   "metadata": {},
   "outputs": [
    {
     "name": "stdout",
     "output_type": "stream",
     "text": [
      "Precios actualizados: [100, 200, 270.0, 360.0, 450.0]\n"
     ]
    }
   ],
   "source": [
    "# Lista de precios original\n",
    "precios = [100, 200, 300, 400, 500]\n",
    "\n",
    "# Crear una nueva lista para los precios actualizados\n",
    "precios_actualizados = []\n",
    "\n",
    "# Bucle para recorrer la lista de precios\n",
    "for precio in precios:\n",
    "    if precio > 250:  # Aplicar el descuento del 10% si el precio es mayor a 250\n",
    "        precio_descuento = precio * 0.9\n",
    "        precios_actualizados.append(precio_descuento)\n",
    "    else:  # Si no se aplica descuento, agregar el precio original\n",
    "        precios_actualizados.append(precio)\n",
    "\n",
    "# Imprimir la lista actualizada\n",
    "print(\"Precios actualizados:\", precios_actualizados)"
   ]
  },
  {
   "cell_type": "markdown",
   "metadata": {},
   "source": [
    "#### 17. Dada una lista de calificaciones de estudiantes `[85, 92, 78, 90, 88]`, clasifica a cada estudiante como \"Aprobado\" si la calificación es mayor o igual a `80` y como \"Reprobado\" si es menor a `80`. Imprime el nombre de cada estudiante junto con su estado utilizando un bucle `for` y una estructura `if-else`.\n"
   ]
  },
  {
   "cell_type": "code",
   "execution_count": 10,
   "metadata": {},
   "outputs": [
    {
     "name": "stdout",
     "output_type": "stream",
     "text": [
      "Estudiante 1: Aprobado\n",
      "Estudiante 2: Aprobado\n",
      "Estudiante 3: Reprobado\n",
      "Estudiante 4: Aprobado\n",
      "Estudiante 5: Aprobado\n"
     ]
    }
   ],
   "source": [
    "# Lista de calificaciones de estudiantes\n",
    "calificaciones = [85, 92, 78, 90, 88]\n",
    "\n",
    "# Lista de nombres de los estudiantes (asociada a las calificaciones)\n",
    "nombres = [\"Estudiante 1\", \"Estudiante 2\", \"Estudiante 3\", \"Estudiante 4\", \"Estudiante 5\"]\n",
    "\n",
    "# Bucle para recorrer las calificaciones\n",
    "for i in range(len(calificaciones)):\n",
    "    # Determinar si el estudiante aprueba o reprueba\n",
    "    if calificaciones[i] >= 80:\n",
    "        estado = \"Aprobado\"\n",
    "    else:\n",
    "        estado = \"Reprobado\"\n",
    "    \n",
    "    # Imprimir el resultado\n",
    "    print(f\"{nombres[i]}: {estado}\")"
   ]
  },
  {
   "cell_type": "markdown",
   "metadata": {},
   "source": [
    "\n",
    "#### 18. Escribe un programa que solicite al usuario dos números enteros positivos (`inicio`, `fin`) y otro número entero positivo (`divisor`). Encuentra el número más grande en el rango desde `inicio` hasta `fin` que sea divisible por `divisor`. Utiliza un bucle `for` y una estructura `if-else` para verificar y mantener el registro del número más grande divisible por el divisor dado.\n"
   ]
  },
  {
   "cell_type": "code",
   "execution_count": 17,
   "metadata": {},
   "outputs": [
    {
     "name": "stdout",
     "output_type": "stream",
     "text": [
      "No hay ningún número en el rango [20, 30] que sea divisible por 40.\n"
     ]
    }
   ],
   "source": [
    "# Solicitar los números al usuario\n",
    "inicio = int(input(\"Introduce el número inicial (entero positivo): \"))\n",
    "fin = int(input(\"Introduce el número final (entero positivo): \"))\n",
    "divisor = int(input(\"Introduce el divisor (entero positivo): \"))\n",
    "\n",
    "# Verificar que inicio <= fin\n",
    "if inicio > fin:\n",
    "    print(\"El número inicial debe ser menor o igual al número final.\")\n",
    "else:\n",
    "    # Inicializar una variable para almacenar el número más grande divisible\n",
    "    max_divisible = None\n",
    "\n",
    "    # Bucle para iterar sobre el rango\n",
    "    for numero in range(fin, inicio - 1, -1):  # Iterar hacia atrás desde fin hasta inicio\n",
    "        if numero % divisor == 0:  # Verificar si el número es divisible\n",
    "            max_divisible = numero\n",
    "            break  # Salir del bucle cuando encontramos el primer divisible\n",
    "\n",
    "    # Imprimir el resultado\n",
    "    if max_divisible is not None:\n",
    "        print(f\"El número más grande en el rango [{inicio}, {fin}] divisible por {divisor} es: {max_divisible}\")\n",
    "    else:\n",
    "        print(f\"No hay ningún número en el rango [{inicio}, {fin}] que sea divisible por {divisor}.\")\n"
   ]
  }
 ],
 "metadata": {
  "kernelspec": {
   "display_name": "Python 3",
   "language": "python",
   "name": "python3"
  },
  "language_info": {
   "codemirror_mode": {
    "name": "ipython",
    "version": 3
   },
   "file_extension": ".py",
   "mimetype": "text/x-python",
   "name": "python",
   "nbconvert_exporter": "python",
   "pygments_lexer": "ipython3",
   "version": "3.13.0"
  }
 },
 "nbformat": 4,
 "nbformat_minor": 2
}
