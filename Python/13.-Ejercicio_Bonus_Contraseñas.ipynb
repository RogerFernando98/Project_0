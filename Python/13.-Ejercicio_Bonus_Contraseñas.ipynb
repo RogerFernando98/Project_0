{
 "cells": [
  {
   "cell_type": "markdown",
   "metadata": {},
   "source": [
    "<div style=\"text-align: center;\">\n",
    "  <img src=\"https://github.com/Hack-io-Data/Imagenes/blob/main/01-LogosHackio/logo_celeste@4x.png?raw=true\" alt=\"esquema\" />\n",
    "</div>\n"
   ]
  },
  {
   "cell_type": "markdown",
   "metadata": {},
   "source": [
    "# Comprobación de calidad de contraseñas\n",
    "\n",
    "En este ejercicio, tendrás que generar un programa que sea capaz de comprobar la calidad de contraseñas. La seguridad de nuestras contraseñas es fundamental para proteger nuestra información personal y evitar posibles ataques cibernéticos. Para ello, vamos a crear una función llamada `verificar_seguridad_contrasena` que evaluará la calidad de una contraseña. Esta función tomará como argumento la contraseña a evaluar y devolverá si la contraseña es segura o no basado en los siguientes criterios:\n",
    "\n",
    "1. La contraseña deberá tener al menos 8 caracteres.\n",
    "\n",
    "2. La contraseña deberá tener al menos una letra mayúscula.\n",
    "\n",
    "3. La contraseña deberá tener al menos una letra minúscula. \n",
    "\n",
    "4. La contraseña deberá tener al menos un número. \n",
    "\n",
    "5. La contraseña deberá tener al menos un caracter especial. \n",
    "\n",
    "6. La contraseña no deberá tener espacios en blanco. \n",
    "\n",
    "7. La contraseña no deberá tener caracteres repetidos. \n"
   ]
  },
  {
   "cell_type": "code",
   "execution_count": null,
   "metadata": {},
   "outputs": [
    {
     "name": "stdout",
     "output_type": "stream",
     "text": [
      "Bienvenido al comprobador de contraseñas.\n",
      "Por favor, introduce una contraseña para verificar su seguridad.\n",
      "Escribe 'salir' para finalizar el programa.\n",
      "\n",
      "Resultado: Contraseña insegura: debe tener al menos 8 caracteres.\n",
      "\n",
      "Resultado: Contraseña insegura: debe tener al menos 8 caracteres.\n",
      "\n",
      "Resultado: Contraseña insegura: no debe tener caracteres repetidos.\n",
      "\n",
      "Resultado: Contraseña insegura: debe tener al menos una letra mayúscula.\n",
      "\n",
      "Resultado: Contraseña insegura: debe tener al menos un carácter especial.\n",
      "\n",
      "Resultado: Contraseña insegura: no debe tener caracteres repetidos.\n",
      "\n",
      "Resultado: Contraseña insegura: no debe tener caracteres repetidos.\n",
      "\n",
      "Resultado: Contraseña insegura: debe tener al menos 8 caracteres.\n",
      "\n",
      "Resultado: Contraseña insegura: debe tener al menos 8 caracteres.\n",
      "\n",
      "Resultado: Contraseña insegura: debe tener al menos 8 caracteres.\n",
      "\n"
     ]
    }
   ],
   "source": [
    "def verificar_seguridad_contrasena(contrasena):\n",
    "    # 1. Verificar que tenga al menos 8 caracteres\n",
    "    if len(contrasena) < 8:\n",
    "        return \"Contraseña insegura: debe tener al menos 8 caracteres.\"\n",
    "    \n",
    "    # 2. Verificar que tenga al menos una letra mayúscula\n",
    "    if not any(caracter.isupper() for caracter in contrasena):\n",
    "        return \"Contraseña insegura: debe tener al menos una letra mayúscula.\"\n",
    "    \n",
    "    # 3. Verificar que tenga al menos una letra minúscula\n",
    "    if not any(caracter.islower() for caracter in contrasena):\n",
    "        return \"Contraseña insegura: debe tener al menos una letra minúscula.\"\n",
    "    \n",
    "    # 4. Verificar que tenga al menos un número\n",
    "    if not any(caracter.isdigit() for caracter in contrasena):\n",
    "        return \"Contraseña insegura: debe tener al menos un número.\"\n",
    "    \n",
    "    # 5. Verificar que tenga al menos un carácter especial\n",
    "    caracteres_especiales = \"!@#$%^&*()-_=+[]{}|;:'\\\",.<>?/`~\"\n",
    "    if not any(caracter in caracteres_especiales for caracter in contrasena):\n",
    "        return \"Contraseña insegura: debe tener al menos un carácter especial.\"\n",
    "    \n",
    "    # 6. Verificar que no tenga espacios en blanco\n",
    "    if \" \" in contrasena:\n",
    "        return \"Contraseña insegura: no debe tener espacios en blanco.\"\n",
    "    \n",
    "    # 7. Verificar que no tenga caracteres repetidos\n",
    "    if len(contrasena) != len(set(contrasena)):\n",
    "        return \"Contraseña insegura: no debe tener caracteres repetidos.\"\n",
    "    \n",
    "    # Si cumple con todos los criterios\n",
    "    return \"Contraseña segura.\"\n",
    "\n",
    "# Programa Principal\n",
    "print(\"Bienvenido al comprobador de contraseñas.\")\n",
    "print(\"Por favor, introduce una contraseña para verificar su seguridad.\")\n",
    "print(\"Escribe 'salir' para finalizar el programa.\\n\")\n",
    "\n",
    "while True:\n",
    "    # Solicitar contraseña al usuario\n",
    "    contrasena = input(\"Introduce tu contraseña: \")\n",
    "    \n",
    "    # Salir del programa\n",
    "    if contrasena.lower() == \"salir\":\n",
    "        print(\"Programa terminado. ¡Gracias por usar el comprobador de contraseñas!\")\n",
    "        break\n",
    "    \n",
    "    # Verificar la seguridad de la contraseña\n",
    "    resultado = verificar_seguridad_contrasena(contrasena)\n",
    "    print(f\"Resultado: {resultado}\\n\")"
   ]
  },
  {
   "cell_type": "code",
   "execution_count": null,
   "metadata": {},
   "outputs": [],
   "source": []
  }
 ],
 "metadata": {
  "kernelspec": {
   "display_name": "Python 3",
   "language": "python",
   "name": "python3"
  },
  "language_info": {
   "codemirror_mode": {
    "name": "ipython",
    "version": 3
   },
   "file_extension": ".py",
   "mimetype": "text/x-python",
   "name": "python",
   "nbconvert_exporter": "python",
   "pygments_lexer": "ipython3",
   "version": "3.12.6"
  }
 },
 "nbformat": 4,
 "nbformat_minor": 2
}
