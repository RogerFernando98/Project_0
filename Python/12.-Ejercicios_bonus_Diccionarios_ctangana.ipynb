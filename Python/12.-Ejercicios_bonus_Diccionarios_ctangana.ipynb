{
 "cells": [
  {
   "cell_type": "markdown",
   "metadata": {},
   "source": [
    "<div style=\"text-align: center;\">\n",
    "  <img src=\"https://github.com/Hack-io-Data/Imagenes/blob/main/01-LogosHackio/logo_celeste@4x.png?raw=true\" alt=\"esquema\" />\n",
    "</div>\n"
   ]
  },
  {
   "cell_type": "markdown",
   "metadata": {},
   "source": [
    "# Ejercicio cTangana\n",
    "\n",
    "En este ejercicio tiene como objetivo principal que practiques y domines varias habilidades en Python, como la manipulación de *strings*, el uso de estructuras de datos como listas y diccionarios, y la implementación de técnicas básicas de conteo y ordenamiento. Los pasos que deberéis seguir para realizar este ejercicio son: \n",
    "\n",
    "1. Busca la letra de C. Tangana, Andrés Calamaro - Hong Kong y almacenala como una cadena de strings en `letra_cancion`.\n",
    "\n",
    "2. Crea una lista `palabras` utilizando `letra_cancion`.\n",
    "\n",
    "3. Crea un diccionario `frecuencia_palabras` en el que aparezca como claves cada una de las palabras de `letra_cancion` y sus valores que sea el numero de ocurrencia\n",
    "\n",
    "4. Ordena alfabeticamente las claves de `frecuencia_palabras` \n",
    "\n",
    "5. Crea un nuevo diccionario llamado `frecuencia_palabras2` con el orden obtenido en la pregunta 4.\n",
    "\n",
    "6. Ordenar los valores de `frecuencia_palabras2` de forma ascendente.\n",
    "\n",
    "***HINT***: Ordenar los valores de un diccionario es más complicado que ordenar las claves porque los valores de un diccionario no son únicos. Por lo tanto, no puedes usar la misma forma en que ordenaste las claves del diccionario para ordenar los valores del diccionario. La forma de ordenar un diccionario por valor es utilizar las funciones sorted y operator.itemgetter. \n"
   ]
  },
  {
   "cell_type": "markdown",
   "metadata": {},
   "source": [
    "1. Busca la letra de C. Tangana, Andrés Calamaro - Hong Kong y almacenala como una cadena de strings en `letra_cancion`."
   ]
  },
  {
   "cell_type": "code",
   "execution_count": 1,
   "metadata": {},
   "outputs": [],
   "source": [
    "letra_cancion = \"\"\"\n",
    "Este es un ejemplo de letra de canción.\n",
    "Escribe aquí la letra completa de la canción Hong Kong.\n",
    "Cada palabra debe estar correctamente separada por espacios.\n",
    "\"\"\""
   ]
  },
  {
   "cell_type": "markdown",
   "metadata": {},
   "source": [
    "2. Crea una lista `palabras` utilizando `letra_cancion`."
   ]
  },
  {
   "cell_type": "code",
   "execution_count": 2,
   "metadata": {},
   "outputs": [
    {
     "name": "stdout",
     "output_type": "stream",
     "text": [
      "['Este', 'es', 'un', 'ejemplo', 'de', 'letra', 'de', 'canción.', 'Escribe', 'aquí', 'la', 'letra', 'completa', 'de', 'la', 'canción', 'Hong', 'Kong.', 'Cada', 'palabra', 'debe', 'estar', 'correctamente', 'separada', 'por', 'espacios.']\n"
     ]
    }
   ],
   "source": [
    "palabras = letra_cancion.split()\n",
    "print(palabras)"
   ]
  },
  {
   "cell_type": "markdown",
   "metadata": {},
   "source": [
    "3. Crea un diccionario `frecuencia_palabras` en el que aparezca como claves cada una de las palabras de `letra_cancion` y sus valores que sea el numero de ocurrencia"
   ]
  },
  {
   "cell_type": "code",
   "execution_count": 3,
   "metadata": {},
   "outputs": [
    {
     "name": "stdout",
     "output_type": "stream",
     "text": [
      "{'este': 1, 'es': 1, 'un': 1, 'ejemplo': 1, 'de': 3, 'letra': 2, 'canción': 2, 'escribe': 1, 'aquí': 1, 'la': 2, 'completa': 1, 'hong': 1, 'kong': 1, 'cada': 1, 'palabra': 1, 'debe': 1, 'estar': 1, 'correctamente': 1, 'separada': 1, 'por': 1, 'espacios': 1}\n"
     ]
    }
   ],
   "source": [
    "frecuencia_palabras = {}\n",
    "for palabra in palabras:\n",
    "    palabra = palabra.lower().strip(\".,!?\")  # Convertir a minúsculas y eliminar puntuación\n",
    "    if palabra in frecuencia_palabras:\n",
    "        frecuencia_palabras[palabra] += 1\n",
    "    else:\n",
    "        frecuencia_palabras[palabra] = 1\n",
    "\n",
    "print(frecuencia_palabras)"
   ]
  },
  {
   "cell_type": "markdown",
   "metadata": {},
   "source": [
    "4. Ordena alfabeticamente las claves de `frecuencia_palabras` "
   ]
  },
  {
   "cell_type": "code",
   "execution_count": 4,
   "metadata": {},
   "outputs": [
    {
     "name": "stdout",
     "output_type": "stream",
     "text": [
      "['aquí', 'cada', 'canción', 'completa', 'correctamente', 'de', 'debe', 'ejemplo', 'es', 'escribe', 'espacios', 'estar', 'este', 'hong', 'kong', 'la', 'letra', 'palabra', 'por', 'separada', 'un']\n"
     ]
    }
   ],
   "source": [
    "claves_ordenadas = sorted(frecuencia_palabras.keys())\n",
    "print(claves_ordenadas)"
   ]
  },
  {
   "cell_type": "markdown",
   "metadata": {},
   "source": [
    "5. Crea un nuevo diccionario llamado `frecuencia_palabras2` con el orden obtenido en la pregunta 4."
   ]
  },
  {
   "cell_type": "code",
   "execution_count": 5,
   "metadata": {},
   "outputs": [
    {
     "name": "stdout",
     "output_type": "stream",
     "text": [
      "{'aquí': 1, 'cada': 1, 'canción': 2, 'completa': 1, 'correctamente': 1, 'de': 3, 'debe': 1, 'ejemplo': 1, 'es': 1, 'escribe': 1, 'espacios': 1, 'estar': 1, 'este': 1, 'hong': 1, 'kong': 1, 'la': 2, 'letra': 2, 'palabra': 1, 'por': 1, 'separada': 1, 'un': 1}\n"
     ]
    }
   ],
   "source": [
    "frecuencia_palabras2 = {clave: frecuencia_palabras[clave] for clave in claves_ordenadas}\n",
    "print(frecuencia_palabras2)"
   ]
  },
  {
   "cell_type": "markdown",
   "metadata": {},
   "source": [
    "6. Ordenar los valores de `frecuencia_palabras2` de forma ascendente."
   ]
  },
  {
   "cell_type": "code",
   "execution_count": 6,
   "metadata": {},
   "outputs": [
    {
     "name": "stdout",
     "output_type": "stream",
     "text": [
      "{'aquí': 1, 'cada': 1, 'completa': 1, 'correctamente': 1, 'debe': 1, 'ejemplo': 1, 'es': 1, 'escribe': 1, 'espacios': 1, 'estar': 1, 'este': 1, 'hong': 1, 'kong': 1, 'palabra': 1, 'por': 1, 'separada': 1, 'un': 1, 'canción': 2, 'la': 2, 'letra': 2, 'de': 3}\n"
     ]
    }
   ],
   "source": [
    "import operator\n",
    "\n",
    "frecuencia_ordenada_por_valores = dict(sorted(frecuencia_palabras2.items(), key=operator.itemgetter(1)))\n",
    "print(frecuencia_ordenada_por_valores)"
   ]
  }
 ],
 "metadata": {
  "kernelspec": {
   "display_name": "Python 3",
   "language": "python",
   "name": "python3"
  },
  "language_info": {
   "codemirror_mode": {
    "name": "ipython",
    "version": 3
   },
   "file_extension": ".py",
   "mimetype": "text/x-python",
   "name": "python",
   "nbconvert_exporter": "python",
   "pygments_lexer": "ipython3",
   "version": "3.12.6"
  }
 },
 "nbformat": 4,
 "nbformat_minor": 2
}
