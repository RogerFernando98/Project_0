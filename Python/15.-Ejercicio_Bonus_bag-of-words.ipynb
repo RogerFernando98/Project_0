{
 "cells": [
  {
   "cell_type": "markdown",
   "metadata": {},
   "source": [
    "<div style=\"text-align: center;\">\n",
    "  <img src=\"https://github.com/Hack-io-Data/Imagenes/blob/main/01-LogosHackio/logo_celeste@4x.png?raw=true\" alt=\"esquema\" />\n",
    "</div>"
   ]
  },
  {
   "cell_type": "markdown",
   "metadata": {},
   "source": [
    "# Ejercicio *bag of words*\n",
    "\n",
    "A lo largo de este ejercicio tendrás que descargarte 3 archivos extra para poder realizar el ejercicio sin ningún problema. Para ello os recomendamos que guardéis todos los ficheros (el jupyter del ejercicio, mas los 3 archivos `.txt` en la misma carpeta). Si no hacéis esto, no os funcionará el código que tenéis a continuación. "
   ]
  },
  {
   "cell_type": "code",
   "execution_count": 1,
   "metadata": {},
   "outputs": [],
   "source": [
    "# ejecuta este código para poder realizar este ejercicio\n",
    "docs = ['doc1.txt', 'doc2.txt', 'doc3.txt']\n",
    "\n",
    "# NOTA IMPORTANTE: En Python, cuando se trabaja con archivos, es importante cerrarlos una vez que se han terminado de usar.\n",
    "# la palabra reservada \"with\" contiene un try/except/finally y garantiza que si se produce alguna excepción el\n",
    "# programa cerrará el archivo antes de salir. Esta es una estructura habitual para manejar archivos.\n",
    "corpus = []\n",
    "\n",
    "for i in docs:\n",
    "    with open(i) as file:\n",
    "        content = file.read()\n",
    "        corpus.append(content)"
   ]
  },
  {
   "cell_type": "markdown",
   "metadata": {},
   "source": [
    "#### 1. Imprime el contenido de los documentos cargados en `corpus` para visualizarlos ."
   ]
  },
  {
   "cell_type": "code",
   "execution_count": 2,
   "metadata": {},
   "outputs": [
    {
     "name": "stdout",
     "output_type": "stream",
     "text": [
      "Contenido original del corpus:\n",
      "Documento 1:\n",
      "Desde ahora Data es tu aliado.\n",
      "\n",
      "Documento 2:\n",
      "Data solo es una palabra, tu no.\n",
      "\n",
      "Documento 3:\n",
      "Data es el camino.\n",
      "\n"
     ]
    }
   ],
   "source": [
    "print(\"Contenido original del corpus:\")\n",
    "for idx, text in enumerate(corpus, 1):\n",
    "    print(f\"Documento {idx}:\\n{text}\\n\")"
   ]
  },
  {
   "cell_type": "markdown",
   "metadata": {},
   "source": [
    "#### 2. Quita los signos de puntuacion de cada una de las cadenas de texto. Almacena los cambios en la variable `corpus`."
   ]
  },
  {
   "cell_type": "code",
   "execution_count": 5,
   "metadata": {},
   "outputs": [
    {
     "name": "stdout",
     "output_type": "stream",
     "text": [
      "Corpus sin signos de puntuación:\n",
      "Documento 1:\n",
      "Desde ahora Data es tu aliado\n",
      "\n",
      "Documento 2:\n",
      "Data solo es una palabra tu no\n",
      "\n",
      "Documento 3:\n",
      "Data es el camino\n",
      "\n"
     ]
    }
   ],
   "source": [
    "import string\n",
    "corpus_sin_puntuacion = []\n",
    "for text in corpus:\n",
    "    texto_limpio = text.translate(str.maketrans('', '', string.punctuation))\n",
    "    corpus_sin_puntuacion.append(texto_limpio)\n",
    "\n",
    "corpus = corpus_sin_puntuacion\n",
    "\n",
    "print(\"Corpus sin signos de puntuación:\")\n",
    "for idx, text in enumerate(corpus, 1):\n",
    "    print(f\"Documento {idx}:\\n{text}\\n\")"
   ]
  },
  {
   "cell_type": "markdown",
   "metadata": {},
   "source": [
    "#### 3. Convierte todos los elementos de cada una de las cadenas de texto a minúsculas, almacena los cambios en la variable `corpus`."
   ]
  },
  {
   "cell_type": "code",
   "execution_count": 6,
   "metadata": {},
   "outputs": [
    {
     "name": "stdout",
     "output_type": "stream",
     "text": [
      "Corpus en minúsculas:\n",
      "Documento 1:\n",
      "desde ahora data es tu aliado\n",
      "\n",
      "Documento 2:\n",
      "data solo es una palabra tu no\n",
      "\n",
      "Documento 3:\n",
      "data es el camino\n",
      "\n"
     ]
    }
   ],
   "source": [
    "corpus_minusculas = []\n",
    "for text in corpus:\n",
    "    texto_minusculas = text.lower()\n",
    "    corpus_minusculas.append(texto_minusculas)\n",
    "\n",
    "corpus = corpus_minusculas\n",
    "\n",
    "print(\"Corpus en minúsculas:\")\n",
    "for idx, text in enumerate(corpus, 1):\n",
    "    print(f\"Documento {idx}:\\n{text}\\n\")"
   ]
  },
  {
   "cell_type": "markdown",
   "metadata": {},
   "source": [
    "#### 4. Define una lista vacía llamada `bag_of_words`. En esta lista, deberás almancenar cada palabra por separado. De tal forma que te debe quedar una lista como la que vemos a continuación: \n",
    "\n",
    "![bag](https://github.com/Hack-io-Data/Imagenes/blob/main/04-Prework/Python/bag-of-words.png?raw=true)"
   ]
  },
  {
   "cell_type": "code",
   "execution_count": null,
   "metadata": {},
   "outputs": [
    {
     "name": "stdout",
     "output_type": "stream",
     "text": [
      "['desde', 'ahora', 'data', 'es', 'tu', 'aliado', 'data', 'solo', 'es', 'una', 'palabra', 'tu', 'no', 'data', 'es', 'el', 'camino']\n"
     ]
    }
   ],
   "source": [
    "bag_of_words = []\n",
    "\n",
    "for content in corpus:  # Para cada texto en el corpus\n",
    "    content = content.split()  # Divide el texto en palabras\n",
    "    bag_of_words.extend(content)  # Añade todas las palabras a la lista\n",
    "\n",
    "print(bag_of_words)"
   ]
  },
  {
   "cell_type": "markdown",
   "metadata": {},
   "source": [
    "#### 5. Dada la lista de palabras creada en el ejercicio anterior `bag_of_words`, crea un diccionario donde las claves sean las palabras únicas y los valores el número de veces que aparecen en la lista. El resultado esperado debería ser: \n",
    "\n",
    "```python\n",
    "{\n",
    "    'desde': 1,\n",
    "    'ahora': 1,\n",
    "    'data': 3,\n",
    "    'es': 1,\n",
    "    'tu': 1,\n",
    "    'aliado.': 1,\n",
    "    'solo': 1,\n",
    "    'una': 1,\n",
    "    'palabra,': 1,\n",
    "    'no.': 1,\n",
    "    'el': 1,\n",
    "    'camino.': 1\n",
    "}\n",
    "```"
   ]
  },
  {
   "cell_type": "code",
   "execution_count": 9,
   "metadata": {},
   "outputs": [
    {
     "name": "stdout",
     "output_type": "stream",
     "text": [
      "{'desde': 1, 'ahora': 1, 'data': 3, 'es': 3, 'tu': 2, 'aliado': 1, 'solo': 1, 'una': 1, 'palabra': 1, 'no': 1, 'el': 1, 'camino': 1}\n"
     ]
    }
   ],
   "source": [
    "# Diccionario vacío para almacenar las frecuencias\n",
    "frecuencia_palabras = {}\n",
    "\n",
    "# Iterar sobre cada palabra en la lista\n",
    "for palabra in bag_of_words:\n",
    "    if palabra in frecuencia_palabras:  # Si la palabra ya está en el diccionario\n",
    "        frecuencia_palabras[palabra] += 1\n",
    "    else:  # Si la palabra no está en el diccionario, inicializamos su cuenta a 1\n",
    "        frecuencia_palabras[palabra] = 1\n",
    "\n",
    "print(frecuencia_palabras)"
   ]
  }
 ],
 "metadata": {
  "kernelspec": {
   "display_name": "Python 3",
   "language": "python",
   "name": "python3"
  },
  "language_info": {
   "codemirror_mode": {
    "name": "ipython",
    "version": 3
   },
   "file_extension": ".py",
   "mimetype": "text/x-python",
   "name": "python",
   "nbconvert_exporter": "python",
   "pygments_lexer": "ipython3",
   "version": "3.12.6"
  }
 },
 "nbformat": 4,
 "nbformat_minor": 2
}
