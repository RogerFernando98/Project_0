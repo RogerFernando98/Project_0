{
 "cells": [
  {
   "cell_type": "markdown",
   "metadata": {},
   "source": [
    "<div style=\"text-align: center;\">\n",
    "  <img src=\"https://github.com/Hack-io-Data/Imagenes/blob/main/01-LogosHackio/logo_celeste@4x.png?raw=true\" alt=\"logo hack(io)\" />\n",
    "</div>"
   ]
  },
  {
   "cell_type": "markdown",
   "metadata": {},
   "source": [
    "#### 1. Escribe un programa que determine si un número es par o impar.\n",
    "\n"
   ]
  },
  {
   "cell_type": "code",
   "execution_count": 1,
   "metadata": {},
   "outputs": [
    {
     "name": "stdout",
     "output_type": "stream",
     "text": [
      "El número 3 es impar.\n"
     ]
    }
   ],
   "source": [
    "numero = int(input(\"Introduce un número: \"))\n",
    "\n",
    "\n",
    "if numero % 2 == 0:\n",
    "    print(f\"El número {numero} es par.\")\n",
    "else:\n",
    "    print(f\"El número {numero} es impar.\")"
   ]
  },
  {
   "cell_type": "markdown",
   "metadata": {},
   "source": [
    "#### 2. Genera un programa que nos diga si es de noche, de día o tarde según la hora proporcionada por el usuario."
   ]
  },
  {
   "cell_type": "code",
   "execution_count": 4,
   "metadata": {},
   "outputs": [
    {
     "name": "stdout",
     "output_type": "stream",
     "text": [
      "Es de Noche\n"
     ]
    }
   ],
   "source": [
    "hora = int(input(\"Introduce la hora (0-23): \"))\n",
    "\n",
    "if hora < 0 or hora > 23:\n",
    "    print(\"La hora no es válida. Por favor, introduce un valor entre 0 y 23.\")\n",
    "else:\n",
    "    if hora > 7 and hora < 15:\n",
    "        print(\"Es de día\")\n",
    "    elif hora >= 15 and hora < 20:\n",
    "        print(\"Es de tarde\")\n",
    "    else:\n",
    "        print(\"Es de Noche\")"
   ]
  },
  {
   "cell_type": "markdown",
   "metadata": {},
   "source": [
    "#### 3. Dado un nombre imprime un saludo personalizado."
   ]
  },
  {
   "cell_type": "code",
   "execution_count": 9,
   "metadata": {},
   "outputs": [
    {
     "name": "stdout",
     "output_type": "stream",
     "text": [
      "Hola amigo\n"
     ]
    }
   ],
   "source": [
    "nombre = \"FERNANDO\"\n",
    "\n",
    "if nombre.lower() == \"fernando\":\n",
    "    print(\"Hola amigo\")\n",
    "else:\n",
    "    print(\"Hola desconocido\")"
   ]
  },
  {
   "cell_type": "markdown",
   "metadata": {},
   "source": [
    "#### 4. Escribe un programa que determine qué calificación en texto tiene un alumno en base a su calificación numérica. Las reglas de calificación son: \n",
    "\n",
    "- 0 - 69 insuficiente\n",
    "\n",
    "- 70 - 79 bien\n",
    "\n",
    "- 80 - 89 muy bien\n",
    "\n",
    "- 90 - 100 excelente\n"
   ]
  },
  {
   "cell_type": "code",
   "execution_count": 15,
   "metadata": {},
   "outputs": [
    {
     "name": "stdout",
     "output_type": "stream",
     "text": [
      "Muy bien\n"
     ]
    }
   ],
   "source": [
    "nota = int(input(\"Introduce tu Nota: \"))\n",
    "\n",
    "if nota < 0 or nota > 100:\n",
    "    print(\"Nota incorrecta\")\n",
    "else:\n",
    "    \n",
    "    if nota >= 0 and nota <= 69:\n",
    "        print(\"Isuficiente\")\n",
    "    elif nota >= 70 and nota <= 79:\n",
    "        print(\"Bien\")\n",
    "    elif nota >= 80 and nota <= 89:\n",
    "        print(\"Muy bien\")\n",
    "    else:\n",
    "        print(\"Excelente\")"
   ]
  },
  {
   "cell_type": "markdown",
   "metadata": {},
   "source": [
    "#### 5. Escribe un programa que imprima el día de la semana, dado un número del 1 al 7.\n"
   ]
  },
  {
   "cell_type": "code",
   "execution_count": null,
   "metadata": {},
   "outputs": [
    {
     "name": "stdout",
     "output_type": "stream",
     "text": [
      "Domingo\n"
     ]
    }
   ],
   "source": [
    "dia = int(input(\"Introduce el día: \"))\n",
    "\n",
    "if dia < 1 or dia > 7:\n",
    "    print(\"Día Incorrecto\")\n",
    "else:\n",
    "    if dia == 1:\n",
    "        print(\"Lunes\")\n",
    "    elif dia == 2:\n",
    "        print(\"Martes\")\n",
    "    elif dia == 3:\n",
    "        print(\"Miércoles\")\n",
    "    elif dia == 4:\n",
    "        print(\"Jueves\")\n",
    "    elif dia == 5:\n",
    "        print(\"Viernes\")\n",
    "    elif dia == 6:\n",
    "        print(\"Sábado\")\n",
    "    else:\n",
    "        print(\"Domingo\")"
   ]
  },
  {
   "cell_type": "markdown",
   "metadata": {},
   "source": [
    "#### 6. Escribe un programa que determine si un número es positivo, negativo o cero."
   ]
  },
  {
   "cell_type": "code",
   "execution_count": 19,
   "metadata": {},
   "outputs": [
    {
     "name": "stdout",
     "output_type": "stream",
     "text": [
      "El número es cero.\n"
     ]
    }
   ],
   "source": [
    "numero = float(input(\"Introduce un número: \"))\n",
    "\n",
    "if numero > 0:\n",
    "    print(\"El número es positivo.\")\n",
    "elif numero < 0:\n",
    "    print(\"El número es negativo.\")\n",
    "else:\n",
    "    print(\"El número es cero.\")"
   ]
  },
  {
   "cell_type": "markdown",
   "metadata": {},
   "source": [
    "#### 7. Escribe un programa que determine si una persona puede conducir o no. La edad mínima para conducir es 18 años. \n"
   ]
  },
  {
   "cell_type": "code",
   "execution_count": null,
   "metadata": {},
   "outputs": [
    {
     "name": "stdout",
     "output_type": "stream",
     "text": [
      "No puedes conducir.\n"
     ]
    }
   ],
   "source": [
    "edad = int(input(\"Introduce tu edad: \"))\n",
    "\n",
    "if edad >= 18:\n",
    "    print(\"Puedes conducir.\")\n",
    "else:\n",
    "    print(\"No puedes conducir.\")"
   ]
  },
  {
   "cell_type": "markdown",
   "metadata": {},
   "source": [
    "#### 8. Escribe un programa que determine si un estudiante aprobó o suspendió un examen."
   ]
  },
  {
   "cell_type": "code",
   "execution_count": null,
   "metadata": {},
   "outputs": [
    {
     "name": "stdout",
     "output_type": "stream",
     "text": [
      "Lo siento, suspendiste el examen.\n"
     ]
    }
   ],
   "source": [
    "nota = float(input(\"Introduce tu nota: \"))\n",
    "\n",
    "if nota >= 5:\n",
    "    print(\"¡Felicidades! Aprobaste el examen.\")\n",
    "else:\n",
    "    print(\"Lo siento, suspendiste el examen.\")"
   ]
  },
  {
   "cell_type": "markdown",
   "metadata": {},
   "source": [
    "#### 9. Escribe un programa que determine si un número es múltiplo de 3 y 5.\n"
   ]
  },
  {
   "cell_type": "code",
   "execution_count": 24,
   "metadata": {},
   "outputs": [
    {
     "name": "stdout",
     "output_type": "stream",
     "text": [
      "El número 15 es múltiplo de 3 y de 5.\n"
     ]
    }
   ],
   "source": [
    "numero = int(input(\"Introduce un número: \"))\n",
    "\n",
    "if numero % 3 == 0 and numero % 5 == 0:\n",
    "    print(f\"El número {numero} es múltiplo de 3 y de 5.\")\n",
    "else:\n",
    "    print(f\"El número {numero} no es múltiplo de 3 y de 5.\")"
   ]
  },
  {
   "cell_type": "markdown",
   "metadata": {},
   "source": [
    "#### 10. Escribe un programa que determine si un número es par o impar.\n"
   ]
  },
  {
   "cell_type": "code",
   "execution_count": 25,
   "metadata": {},
   "outputs": [
    {
     "name": "stdout",
     "output_type": "stream",
     "text": [
      "El número 100 es par.\n"
     ]
    }
   ],
   "source": [
    "numero = int(input(\"Introduce un número: \"))\n",
    "\n",
    "if numero % 2 == 0:\n",
    "    print(f\"El número {numero} es par.\")\n",
    "else:\n",
    "    print(f\"El número {numero} es impar.\")"
   ]
  }
 ],
 "metadata": {
  "kernelspec": {
   "display_name": "Python 3",
   "language": "python",
   "name": "python3"
  },
  "language_info": {
   "codemirror_mode": {
    "name": "ipython",
    "version": 3
   },
   "file_extension": ".py",
   "mimetype": "text/x-python",
   "name": "python",
   "nbconvert_exporter": "python",
   "pygments_lexer": "ipython3",
   "version": "3.13.0"
  }
 },
 "nbformat": 4,
 "nbformat_minor": 2
}
