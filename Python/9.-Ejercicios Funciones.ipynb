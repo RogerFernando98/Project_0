{
 "cells": [
  {
   "cell_type": "markdown",
   "metadata": {},
   "source": [
    "\n",
    "<div style=\"text-align: center;\">\n",
    "  <img src=\"https://github.com/Hack-io-Data/Imagenes/blob/main/01-LogosHackio/logo_celeste@4x.png?raw=true\" alt=\"esquema\" />\n",
    "</div>"
   ]
  },
  {
   "cell_type": "markdown",
   "metadata": {},
   "source": [
    "#### 1. Escribe una función sin parámetros que imprima el siguiente mensaje \"¡Hola! Bienvenido.\"\n"
   ]
  },
  {
   "cell_type": "code",
   "execution_count": null,
   "metadata": {},
   "outputs": [
    {
     "name": "stdout",
     "output_type": "stream",
     "text": [
      "¡Hola! Bienvenido\n"
     ]
    }
   ],
   "source": [
    "def mensaje():\n",
    "    print(\"¡Hola! Bienvenido\")\n",
    "\n",
    "mensaje()"
   ]
  },
  {
   "cell_type": "markdown",
   "metadata": {},
   "source": [
    "#### 2. Escribe una función que reciba dos parámetros y devuelva la suma de ambos.\n"
   ]
  },
  {
   "cell_type": "code",
   "execution_count": 3,
   "metadata": {},
   "outputs": [
    {
     "data": {
      "text/plain": [
       "7"
      ]
     },
     "execution_count": 3,
     "metadata": {},
     "output_type": "execute_result"
    }
   ],
   "source": [
    "def sumar(num1, num2):\n",
    "    resultado = num1 + num2\n",
    "    return resultado\n",
    "\n",
    "#llamamos a la función\n",
    "sumar(2, 5)"
   ]
  },
  {
   "cell_type": "markdown",
   "metadata": {},
   "source": [
    "#### 3. Escribe una función que reciba un número y devuelva True si es par, False si no lo es."
   ]
  },
  {
   "cell_type": "code",
   "execution_count": 6,
   "metadata": {},
   "outputs": [
    {
     "name": "stdout",
     "output_type": "stream",
     "text": [
      "No es par\n"
     ]
    }
   ],
   "source": [
    "def pares(numero):\n",
    "    if numero % 2 == 0:\n",
    "        print(\"Es par\")\n",
    "    else:\n",
    "        print(\"No es par\")\n",
    "\n",
    "# Llamada a la función\n",
    "pares(7)\n"
   ]
  },
  {
   "cell_type": "markdown",
   "metadata": {},
   "source": [
    "#### 4. Escribe un función que devuelva un saludo personalizado a una persona dado su nombre. \n"
   ]
  },
  {
   "cell_type": "code",
   "execution_count": null,
   "metadata": {},
   "outputs": [
    {
     "name": "stdout",
     "output_type": "stream",
     "text": [
      "La función de saludo devuelve: Hola klk hace, Fernando!\n"
     ]
    }
   ],
   "source": [
    "# definimos la función 'saludar' \n",
    "def saludar(nombre, mensaje = \"Hola klk hace\"):\n",
    "\n",
    "    # definimos un string que se va a componer por el mensaje\n",
    "    frase = f'{mensaje}, {nombre}!'\n",
    "    return frase\n",
    "\n",
    "# llamamos a la función 'saludar' y almacenamos los resultados en la variable 'saludo1'\n",
    "saludo = saludar(\"Fernando\")\n",
    "\n",
    "print(\"La función de saludo devuelve:\", saludo)"
   ]
  },
  {
   "cell_type": "markdown",
   "metadata": {},
   "source": [
    "#### 5. Escribe una función que sume todos los números que reciba como argumento. La función debe recibir una cantidad variable de argumentos y devolver la suma de todos ellos."
   ]
  },
  {
   "cell_type": "code",
   "execution_count": 11,
   "metadata": {},
   "outputs": [
    {
     "name": "stdout",
     "output_type": "stream",
     "text": [
      "El resultado de la suma es: 28\n"
     ]
    }
   ],
   "source": [
    "def sumas(*args):\n",
    "    return sum(args)\n",
    "\n",
    "Resultado = sumas(1, 2, 3, 4, 5, 6, 7)\n",
    "print(f\"El resultado de la suma es: {Resultado}\")"
   ]
  },
  {
   "cell_type": "markdown",
   "metadata": {},
   "source": [
    "#### 6. Escribe una función que cuente las letras de una palabra y devuelva un diccionario con la cantidad de veces que se repite cada letra \n"
   ]
  },
  {
   "cell_type": "code",
   "execution_count": 12,
   "metadata": {},
   "outputs": [
    {
     "name": "stdout",
     "output_type": "stream",
     "text": [
      "{'P': 1, 'e': 2, 'p': 1, 'r': 1, 'o': 1, 'n': 1, 'i': 1}\n"
     ]
    }
   ],
   "source": [
    "def contar_letras(palabra):\n",
    "    # Inicializar un diccionario vacío para almacenar las letras y sus frecuencias\n",
    "    conteo = {}\n",
    "    \n",
    "    # Recorrer cada letra de la palabra\n",
    "    for letra in palabra:\n",
    "        if letra in conteo:  # Si la letra ya está en el diccionario, incrementar su valor\n",
    "            conteo[letra] += 1\n",
    "        else:  # Si la letra no está en el diccionario, agregarla con un valor inicial de 1\n",
    "            conteo[letra] = 1\n",
    "    \n",
    "    return conteo\n",
    "\n",
    "resultado = contar_letras(\"Peperoni\")\n",
    "print(resultado)"
   ]
  },
  {
   "cell_type": "markdown",
   "metadata": {},
   "source": [
    "#### 7. Escribe un función recursiva para calcular el factorial de un número entero no negativo."
   ]
  },
  {
   "cell_type": "code",
   "execution_count": 15,
   "metadata": {},
   "outputs": [
    {
     "name": "stdout",
     "output_type": "stream",
     "text": [
      "3628800\n"
     ]
    }
   ],
   "source": [
    "def factorial(n):\n",
    "    # Caso base: el factorial de 0 o 1 es 1\n",
    "    if n == 0 or n == 1:\n",
    "        return 1\n",
    "    # Caso recursivo: n * factorial(n-1)\n",
    "    else:\n",
    "        return n * factorial(n - 1)\n",
    "\n",
    "resultado = factorial(10)\n",
    "print(resultado)"
   ]
  },
  {
   "cell_type": "markdown",
   "metadata": {},
   "source": [
    "#### 8. Escribe una función que tome dos parámetros: `figura` (una cadena que puede ser `\"rectangulo\"`, `\"circulo\"` o `\"triangulo\"`) y `datos` (una tupla con los datos necesarios para calcular el área de la figura). "
   ]
  },
  {
   "cell_type": "code",
   "execution_count": 16,
   "metadata": {},
   "outputs": [
    {
     "name": "stdout",
     "output_type": "stream",
     "text": [
      "50\n",
      "153.93804002589985\n",
      "16.0\n"
     ]
    }
   ],
   "source": [
    "import math  # Importar para usar constantes y funciones matemáticas como pi para el area del circulo\n",
    "\n",
    "def calcular_area(figura, datos):\n",
    "    if figura == \"rectangulo\":\n",
    "        # datos = (base, altura)\n",
    "        base, altura = datos\n",
    "        return base * altura\n",
    "    elif figura == \"circulo\":\n",
    "        # datos = (radio,)\n",
    "        radio, = datos\n",
    "        return math.pi * radio**2\n",
    "    elif figura == \"triangulo\":\n",
    "        # datos = (base, altura)\n",
    "        base, altura = datos\n",
    "        return (base * altura) / 2\n",
    "\n",
    "# Calcular el área de un rectángulo\n",
    "print(calcular_area(\"rectangulo\", (10, 5)))  # Devuelve 50\n",
    "\n",
    "# Calcular el área de un círculo\n",
    "print(calcular_area(\"circulo\", (7,)))  # Devuelve aproximadamente 153.938\n",
    "\n",
    "# Calcular el área de un triángulo\n",
    "print(calcular_area(\"triangulo\", (8, 4)))  # Devuelve 16\n"
   ]
  },
  {
   "cell_type": "markdown",
   "metadata": {},
   "source": [
    "#### 9. Escribe una función que tome una lista de números como parámetro y devuelva el número más grande de la lista. No utilices la función `max()` de Python en tu solución."
   ]
  },
  {
   "cell_type": "code",
   "execution_count": 20,
   "metadata": {},
   "outputs": [
    {
     "name": "stdout",
     "output_type": "stream",
     "text": [
      "11\n"
     ]
    }
   ],
   "source": [
    "def numero_mas_grande(lista):\n",
    "    # Verificar que la lista no esté vacía\n",
    "    if not lista:\n",
    "        return None  # Retornar None si la lista está vacía\n",
    "\n",
    "    # Inicializar el número más grande como el primer elemento de la lista\n",
    "    mayor = lista[0]\n",
    "\n",
    "    # Recorrer la lista para encontrar el número más grande\n",
    "    for numero in lista:\n",
    "        if numero > mayor:\n",
    "            mayor = numero  # Actualizar si encontramos un número mayor\n",
    "\n",
    "    return mayor\n",
    "\n",
    "\n",
    "numeros = [6, 5, 11, 9, 8, 1]\n",
    "print(numero_mas_grande(numeros))"
   ]
  },
  {
   "cell_type": "markdown",
   "metadata": {},
   "source": [
    "#### 10. Escribe una función que tome una cadena como parámetro un texto y devuelva `True` si la cadena es un palíndromo (se lee igual de izquierda a derecha que de derecha a izquierda), y `False` en caso contrario. Ignora los espacios y considera mayúsculas y minúsculas de manera insensible.\n"
   ]
  },
  {
   "cell_type": "code",
   "execution_count": 21,
   "metadata": {},
   "outputs": [
    {
     "name": "stdout",
     "output_type": "stream",
     "text": [
      "True\n",
      "False\n"
     ]
    }
   ],
   "source": [
    "def es_palindromo(texto):\n",
    "    # Eliminar espacios y convertir a minúsculas\n",
    "    texto_limpio = texto.replace(\" \", \"\").lower()\n",
    "    # Verificar si el texto limpio es igual a su reverso\n",
    "    return texto_limpio == texto_limpio[::-1]\n",
    "\n",
    "print(es_palindromo(\"Amo la paloma\"))      # Devuelve True\n",
    "print(es_palindromo(\"Python\"))             # Devuelve False"
   ]
  },
  {
   "cell_type": "markdown",
   "metadata": {},
   "source": [
    "#### 11. Escribe una función que tome una cadena como parámetro y devuelva dos valores: la cantidad de vocales y la cantidad de consonantes presentes en la cadena. Ignora los espacios y considera mayúsculas y minúsculas de manera insensible.\n"
   ]
  },
  {
   "cell_type": "code",
   "execution_count": 23,
   "metadata": {},
   "outputs": [
    {
     "name": "stdout",
     "output_type": "stream",
     "text": [
      "Vocales: 5, Consonantes: 7\n"
     ]
    }
   ],
   "source": [
    "def contar_vocales_consonantes(cadena):\n",
    "    # Definir las vocales\n",
    "    vocales = \"aeiou\"\n",
    "    # Inicializar contadores\n",
    "    cantidad_vocales = 0\n",
    "    cantidad_consonantes = 0\n",
    "\n",
    "    # Limpiar la cadena: eliminar espacios y convertir a minúsculas\n",
    "    cadena_limpia = cadena.replace(\" \", \"\").lower()\n",
    "\n",
    "    # Recorrer cada carácter de la cadena\n",
    "    for caracter in cadena_limpia:\n",
    "        if caracter.isalpha():  # Verificar si es una letra\n",
    "            if caracter in vocales:\n",
    "                cantidad_vocales += 1\n",
    "            else:\n",
    "                cantidad_consonantes += 1\n",
    "\n",
    "    return cantidad_vocales, cantidad_consonantes\n",
    "\n",
    "texto = \"Hola Fernando\"\n",
    "vocales, consonantes = contar_vocales_consonantes(texto)\n",
    "print(f\"Vocales: {vocales}, Consonantes: {consonantes}\")\n"
   ]
  }
 ],
 "metadata": {
  "kernelspec": {
   "display_name": "Python 3",
   "language": "python",
   "name": "python3"
  },
  "language_info": {
   "codemirror_mode": {
    "name": "ipython",
    "version": 3
   },
   "file_extension": ".py",
   "mimetype": "text/x-python",
   "name": "python",
   "nbconvert_exporter": "python",
   "pygments_lexer": "ipython3",
   "version": "3.13.0"
  }
 },
 "nbformat": 4,
 "nbformat_minor": 2
}
