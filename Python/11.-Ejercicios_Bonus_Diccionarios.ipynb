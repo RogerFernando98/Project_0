{
 "cells": [
  {
   "cell_type": "markdown",
   "metadata": {},
   "source": [
    "<div style=\"text-align: center;\">\n",
    "  <img src=\"https://github.com/Hack-io-Data/Imagenes/blob/main/01-LogosHackio/logo_celeste@4x.png?raw=true\" alt=\"esquema\" />\n",
    "</div>"
   ]
  },
  {
   "cell_type": "markdown",
   "metadata": {},
   "source": [
    "\n",
    "\n",
    "En este ejercicios deberéis contestar a una serie de preguntas, usando los datos que os describimos a continuación. Los datos incluyen una lista de ciclistas, cada uno con los siguientes atributos:\n",
    "\n",
    "1. **Nombre**: Nombre del ciclista (por ejemplo, \"Juan\").\n",
    "\n",
    "2. **Apellido**: Apellido del ciclista (por ejemplo, \"Pérez\").\n",
    "\n",
    "3. **Fecha de Nacimiento**: Fecha de nacimiento en formato `YYYY-MM-DD` (por ejemplo, \"1990-05-15\").\n",
    "\n",
    "4. **Nacionalidad**: Nacionalidad del ciclista (por ejemplo, \"Español\").\n",
    "\n",
    "5. **Datos Biométricos**: Incluye atributos adicionales:\n",
    "\n",
    "   - **Edad**: Edad del ciclista (por ejemplo, 32 años).\n",
    "\n",
    "   - **Peso**: Peso en kilogramos (por ejemplo, 70 kg).\n",
    "\n",
    "   - **Altura**: Altura en centímetros (por ejemplo, 175 cm).\n",
    "\n",
    "      Ejemplo de un ciclista:\n",
    "      ```json\n",
    "      {\n",
    "        \"nombre\": \"Juan\",\n",
    "        \"apellido\": \"Pérez\",\n",
    "        \"fecha_nacimiento\": \"1990-05-15\",\n",
    "        \"nacionalidad\": \"Español\",\n",
    "        \"datos_biometricos\": {\n",
    "          \"edad\": 32,\n",
    "          \"peso_kg\": 70,\n",
    "          \"altura_cm\": 175\n",
    "        }\n",
    "      }\n",
    "      ```\n",
    "\n",
    "6. Los datos también incluyen una lista de localizaciones, cada una con los siguientes atributos:\n",
    "\n",
    "    - **Nombre**: Nombre de la localización (por ejemplo, \"París\").\n",
    "\n",
    "    - **Fecha**: Fecha en formato `DD/MM/YYYY` (por ejemplo, \"26/06/2022\").\n",
    "\n",
    "    - **Tipo**: Tipo de localización (por ejemplo, \"Inicio\", \"Etapa\").\n",
    "\n",
    "    - **Distancia**: Distancia en kilómetros desde el inicio (por ejemplo, \"0 km\").\n",
    "\n",
    "    - **Altitud**: Altitud en metros sobre el nivel del mar (por ejemplo, \"0 m\").\n",
    "\n",
    "      Ejemplo de una localización:\n",
    "      ```json\n",
    "      {\n",
    "        \"nombre\": \"París\",\n",
    "        \"fecha\": \"26/06/2022\",\n",
    "        \"tipo\": \"Inicio\",\n",
    "        \"distancia\": \"0 km\",\n",
    "        \"altitud\": \"0 m\"\n",
    "      }\n",
    "      ```\n",
    "\n",
    "\n",
    "\n",
    "\n",
    "```python\n",
    "response = {\n",
    "    'ciclistas': [\n",
    "              {'nombre': 'Juan', 'apellido': 'Pérez', 'fecha_nacimiento': '1990-05-15', 'nacionalidad': 'Español', 'datos_biometricos': {'edad': 32, 'peso_kg': 70, 'altura_cm': 175}},\n",
    "              {'nombre': 'Maria', 'apellido': 'García', 'fecha_nacimiento': '1985-08-20', 'nacionalidad': 'Mexicana', 'datos_biometricos': {'edad': 37, 'peso_kg': 65, 'altura_cm': 168}},\n",
    "              {'nombre': 'Luis', 'apellido': 'Hernández', 'fecha_nacimiento': '1995-02-10', 'nacionalidad': 'Español', 'datos_biometricos': {'edad': 27, 'peso_kg': 68, 'altura_cm': 180}},\n",
    "              {'nombre': 'Ana', 'apellido': 'González', 'fecha_nacimiento': '1992-07-25', 'nacionalidad': 'Español', 'datos_biometricos': {'edad': 32, 'peso_kg': 65, 'altura_cm': 165}},\n",
    "              {'nombre': 'José', 'apellido': 'Rodríguez', 'fecha_nacimiento': '1991-09-10', 'nacionalidad': 'Español', 'datos_biometricos': {'edad': 31, 'peso_kg': 75, 'altura_cm': 185}},\n",
    "              {'nombre': 'María', 'apellido': 'López', 'fecha_nacimiento': '1993-04-20', 'nacionalidad': 'Español', 'datos_biometricos': {'edad': 30, 'peso_kg': 60, 'altura_cm': 160}},\n",
    "              {'nombre': 'Juan', 'apellido': 'Sánchez', 'fecha_nacimiento': '1994-06-15', 'nacionalidad': 'Español', 'datos_biometricos': {'edad': 29, 'peso_kg': 70, 'altura_cm': 175}},\n",
    "              {'nombre': 'Alicia', 'apellido': 'García', 'fecha_nacimiento': '1996-08-20', 'nacionalidad': 'Mexicana', 'datos_biometricos': {'edad': 28, 'peso_kg': 65, 'altura_cm': 168}},\n",
    "              {'nombre': 'José', 'apellido': 'Hernández', 'fecha_nacimiento': '1997-02-10', 'nacionalidad': 'Español', 'datos_biometricos': {'edad': 27, 'peso_kg': 68, 'altura_cm': 180}},\n",
    "              {'nombre': 'María', 'apellido': 'López', 'fecha_nacimiento': '1998-04-20', 'nacionalidad': 'Español', 'datos_biometricos': {'edad': 26, 'peso_kg': 60, 'altura_cm': 160}}\n",
    "                ],\n",
    "    'localizaciones': [\n",
    "              {'nombre': 'París', 'fecha': '26/06/2022', 'tipo': 'Inicio', 'distancia': '0 km', 'altitud': '0 m'},\n",
    "              {'nombre': 'Roubaix', 'fecha': '27/06/2022', 'tipo': 'Etapa', 'distancia': '200 km', 'altitud': '100 m'},\n",
    "              {'nombre': 'Lille', 'fecha': '28/06/2022', 'tipo': 'Etapa', 'distancia': '180 km', 'altitud': '150 m'},\n",
    "              {'nombre': 'Reims', 'fecha': '29/06/2022', 'tipo': 'Etapa', 'distancia': '220 km', 'altitud': '200 m'},\n",
    "              {'nombre': 'Metz', 'fecha': '30/06/2022', 'tipo': 'Etapa', 'distancia': '250 km', 'altitud': '250 m'},\n",
    "              {'nombre': 'Strasbourg', 'fecha': '01/07/2022', 'tipo': 'Etapa', 'distancia': '280 km', 'altitud': '300 m'},\n",
    "              {'nombre': 'Mulhouse', 'fecha': '02/07/2022', 'tipo': 'Etapa', 'distancia': '300 km', 'altitud': '350 m'},\n",
    "              {'nombre': 'Lyon', 'fecha': '03/07/2022', 'tipo': 'Etapa', 'distancia': '350 km', 'altitud': '400 m'},\n",
    "              {'nombre': 'Grenoble', 'fecha': '04/07/2022', 'tipo': 'Etapa', 'distancia': '400 km', 'altitud': '450 m'},\n",
    "              {'nombre': 'Toulouse', 'fecha': '05/07/2022', 'tipo': 'Etapa', 'distancia': '450 km', 'altitud': '500 m'}\n",
    "                   ]\n",
    "}\n",
    "```\n"
   ]
  },
  {
   "cell_type": "code",
   "execution_count": 1,
   "metadata": {},
   "outputs": [],
   "source": [
    "response = {\n",
    "    'ciclistas': [\n",
    "              {'nombre': 'Juan', 'apellido': 'Pérez', 'fecha_nacimiento': '1990-05-15', 'nacionalidad': 'Español', 'datos_biometricos': {'edad': 32, 'peso_kg': 70, 'altura_cm': 175}},\n",
    "              {'nombre': 'Maria', 'apellido': 'García', 'fecha_nacimiento': '1985-08-20', 'nacionalidad': 'Mexicana', 'datos_biometricos': {'edad': 37, 'peso_kg': 65, 'altura_cm': 168}},\n",
    "              {'nombre': 'Luis', 'apellido': 'Hernández', 'fecha_nacimiento': '1995-02-10', 'nacionalidad': 'Español', 'datos_biometricos': {'edad': 27, 'peso_kg': 68, 'altura_cm': 180}},\n",
    "              {'nombre': 'Ana', 'apellido': 'González', 'fecha_nacimiento': '1992-07-25', 'nacionalidad': 'Español', 'datos_biometricos': {'edad': 32, 'peso_kg': 65, 'altura_cm': 165}},\n",
    "              {'nombre': 'José', 'apellido': 'Rodríguez', 'fecha_nacimiento': '1991-09-10', 'nacionalidad': 'Español', 'datos_biometricos': {'edad': 31, 'peso_kg': 75, 'altura_cm': 185}},\n",
    "              {'nombre': 'María', 'apellido': 'López', 'fecha_nacimiento': '1993-04-20', 'nacionalidad': 'Español', 'datos_biometricos': {'edad': 30, 'peso_kg': 60, 'altura_cm': 160}},\n",
    "              {'nombre': 'Juan', 'apellido': 'Sánchez', 'fecha_nacimiento': '1994-06-15', 'nacionalidad': 'Español', 'datos_biometricos': {'edad': 29, 'peso_kg': 70, 'altura_cm': 175}},\n",
    "              {'nombre': 'Alicia', 'apellido': 'García', 'fecha_nacimiento': '1996-08-20', 'nacionalidad': 'Mexicana', 'datos_biometricos': {'edad': 28, 'peso_kg': 65, 'altura_cm': 168}},\n",
    "              {'nombre': 'José', 'apellido': 'Hernández', 'fecha_nacimiento': '1997-02-10', 'nacionalidad': 'Español', 'datos_biometricos': {'edad': 27, 'peso_kg': 68, 'altura_cm': 180}},\n",
    "              {'nombre': 'María', 'apellido': 'López', 'fecha_nacimiento': '1998-04-20', 'nacionalidad': 'Español', 'datos_biometricos': {'edad': 26, 'peso_kg': 60, 'altura_cm': 160}}\n",
    "                ],\n",
    "    'localizaciones': [\n",
    "              {'nombre': 'París', 'fecha': '26/06/2022', 'tipo': 'Inicio', 'distancia': '0 km', 'altitud': '0 m'},\n",
    "              {'nombre': 'Roubaix', 'fecha': '27/06/2022', 'tipo': 'Etapa', 'distancia': '200 km', 'altitud': '100 m'},\n",
    "              {'nombre': 'Lille', 'fecha': '28/06/2022', 'tipo': 'Etapa', 'distancia': '180 km', 'altitud': '150 m'},\n",
    "              {'nombre': 'Reims', 'fecha': '29/06/2022', 'tipo': 'Etapa', 'distancia': '220 km', 'altitud': '200 m'},\n",
    "              {'nombre': 'Metz', 'fecha': '30/06/2022', 'tipo': 'Etapa', 'distancia': '250 km', 'altitud': '250 m'},\n",
    "              {'nombre': 'Strasbourg', 'fecha': '01/07/2022', 'tipo': 'Etapa', 'distancia': '280 km', 'altitud': '300 m'},\n",
    "              {'nombre': 'Mulhouse', 'fecha': '02/07/2022', 'tipo': 'Etapa', 'distancia': '300 km', 'altitud': '350 m'},\n",
    "              {'nombre': 'Lyon', 'fecha': '03/07/2022', 'tipo': 'Etapa', 'distancia': '350 km', 'altitud': '400 m'},\n",
    "              {'nombre': 'Grenoble', 'fecha': '04/07/2022', 'tipo': 'Etapa', 'distancia': '400 km', 'altitud': '450 m'},\n",
    "              {'nombre': 'Toulouse', 'fecha': '05/07/2022', 'tipo': 'Etapa', 'distancia': '450 km', 'altitud': '500 m'}\n",
    "                   ]\n",
    "}"
   ]
  },
  {
   "cell_type": "markdown",
   "metadata": {},
   "source": [
    "#### 1. ¿Qué tipo de estructura de datos es la variable `response` definida previamente?"
   ]
  },
  {
   "cell_type": "code",
   "execution_count": null,
   "metadata": {},
   "outputs": [],
   "source": [
    "\"\"\"\n",
    "Response es un diccionario con dos claves principales (ciclistas y localizaciones), \n",
    "cada una apuntando a una lista de diccionarios.\n",
    "\"\"\""
   ]
  },
  {
   "cell_type": "markdown",
   "metadata": {
    "vscode": {
     "languageId": "plaintext"
    }
   },
   "source": [
    "#### 2. ¿Cuántos participantes hay en la varible `response`?"
   ]
  },
  {
   "cell_type": "code",
   "execution_count": null,
   "metadata": {},
   "outputs": [
    {
     "name": "stdout",
     "output_type": "stream",
     "text": [
      "Número de participantes: 10\n"
     ]
    }
   ],
   "source": [
    "cantidad_participantes = len(response['ciclistas'])\n",
    "\n",
    "print(f\"Número de participantes: {cantidad_participantes}\")"
   ]
  },
  {
   "cell_type": "markdown",
   "metadata": {},
   "source": [
    "#### 3. ¿Cuál es la nacionalidad del primer ciclista?"
   ]
  },
  {
   "cell_type": "code",
   "execution_count": 3,
   "metadata": {},
   "outputs": [
    {
     "name": "stdout",
     "output_type": "stream",
     "text": [
      "La nacionalidad del primer ciclista es: Español\n"
     ]
    }
   ],
   "source": [
    "nacionalidad_primer_ciclista = response['ciclistas'][0]['nacionalidad']\n",
    "\n",
    "print(f\"La nacionalidad del primer ciclista es: {nacionalidad_primer_ciclista}\")"
   ]
  },
  {
   "cell_type": "markdown",
   "metadata": {},
   "source": [
    "#### 4. ¿Cuál es la fecha de nacimiento del tercer ciclista?"
   ]
  },
  {
   "cell_type": "code",
   "execution_count": 4,
   "metadata": {},
   "outputs": [
    {
     "name": "stdout",
     "output_type": "stream",
     "text": [
      "La fecha de nacimiento del tercer ciclista es: 1995-02-10\n"
     ]
    }
   ],
   "source": [
    "fecha_nacimiento_tercer_ciclista = response['ciclistas'][2]['fecha_nacimiento']\n",
    "\n",
    "print(f\"La fecha de nacimiento del tercer ciclista es: {fecha_nacimiento_tercer_ciclista}\")"
   ]
  },
  {
   "cell_type": "markdown",
   "metadata": {},
   "source": [
    "#### 5. ¿Cuál es el peso en kg del segundo ciclista?"
   ]
  },
  {
   "cell_type": "code",
   "execution_count": 5,
   "metadata": {},
   "outputs": [
    {
     "name": "stdout",
     "output_type": "stream",
     "text": [
      "El peso del segundo ciclista es: 65 kg\n"
     ]
    }
   ],
   "source": [
    "peso_segundo_ciclista = response['ciclistas'][1]['datos_biometricos']['peso_kg']\n",
    "\n",
    "print(f\"El peso del segundo ciclista es: {peso_segundo_ciclista} kg\")"
   ]
  },
  {
   "cell_type": "markdown",
   "metadata": {},
   "source": [
    "#### 6. ¿Cuál es la altura en cm del último ciclista ?"
   ]
  },
  {
   "cell_type": "code",
   "execution_count": 6,
   "metadata": {},
   "outputs": [
    {
     "name": "stdout",
     "output_type": "stream",
     "text": [
      "La altura del último ciclista es: 160 cm\n"
     ]
    }
   ],
   "source": [
    "altura_ultimo_ciclista = response['ciclistas'][-1]['datos_biometricos']['altura_cm']\n",
    "print(f\"La altura del último ciclista es: {altura_ultimo_ciclista} cm\")"
   ]
  },
  {
   "cell_type": "markdown",
   "metadata": {},
   "source": [
    "#### 7. Indica el nombre de los ciclistas que nacieron en el siglo XX. "
   ]
  },
  {
   "cell_type": "code",
   "execution_count": 7,
   "metadata": {},
   "outputs": [
    {
     "name": "stdout",
     "output_type": "stream",
     "text": [
      "Ciclistas nacidos en el siglo XX: ['Juan Pérez', 'Maria García', 'Luis Hernández', 'Ana González', 'José Rodríguez', 'María López', 'Juan Sánchez', 'Alicia García', 'José Hernández', 'María López']\n"
     ]
    }
   ],
   "source": [
    "ciclistas_siglo_XX = [\n",
    "    f\"{c['nombre']} {c['apellido']}\"\n",
    "    for c in response['ciclistas']\n",
    "    if 1901 <= int(c['fecha_nacimiento'].split(\"-\")[0]) <= 2000\n",
    "]\n",
    "print(f\"Ciclistas nacidos en el siglo XX: {ciclistas_siglo_XX}\")"
   ]
  },
  {
   "cell_type": "markdown",
   "metadata": {},
   "source": [
    "#### 8. ¿Cuál es el nombre completo del cuarto ciclista?"
   ]
  },
  {
   "cell_type": "code",
   "execution_count": 8,
   "metadata": {},
   "outputs": [
    {
     "name": "stdout",
     "output_type": "stream",
     "text": [
      "El nombre completo del cuarto ciclista es: Ana González\n"
     ]
    }
   ],
   "source": [
    "nombre_completo_cuarto = f\"{response['ciclistas'][3]['nombre']} {response['ciclistas'][3]['apellido']}\"\n",
    "print(f\"El nombre completo del cuarto ciclista es: {nombre_completo_cuarto}\")"
   ]
  },
  {
   "cell_type": "markdown",
   "metadata": {},
   "source": [
    "#### 9. Genera una lista con el nombre y apellido de cada ciclista. "
   ]
  },
  {
   "cell_type": "code",
   "execution_count": 9,
   "metadata": {},
   "outputs": [
    {
     "name": "stdout",
     "output_type": "stream",
     "text": [
      "Lista con el nombre completo de los ciclistas: ['Juan Pérez', 'Maria García', 'Luis Hernández', 'Ana González', 'José Rodríguez', 'María López', 'Juan Sánchez', 'Alicia García', 'José Hernández', 'María López']\n"
     ]
    }
   ],
   "source": [
    "nombres_completos = [f\"{c['nombre']} {c['apellido']}\" for c in response['ciclistas']]\n",
    "print(f\"Lista con el nombre completo de los ciclistas: {nombres_completos}\")"
   ]
  },
  {
   "cell_type": "markdown",
   "metadata": {},
   "source": [
    "#### 10. ¿Cuál es la edad del quinto ciclista?"
   ]
  },
  {
   "cell_type": "code",
   "execution_count": 10,
   "metadata": {},
   "outputs": [
    {
     "name": "stdout",
     "output_type": "stream",
     "text": [
      "La edad del quinto ciclista es: 31 años\n"
     ]
    }
   ],
   "source": [
    "edad_quinto_ciclista = response['ciclistas'][4]['datos_biometricos']['edad']\n",
    "print(f\"La edad del quinto ciclista es: {edad_quinto_ciclista} años\")"
   ]
  },
  {
   "cell_type": "markdown",
   "metadata": {},
   "source": [
    "#### 11. ¿Cuál es el apellido del sexto ciclista?"
   ]
  },
  {
   "cell_type": "code",
   "execution_count": 11,
   "metadata": {},
   "outputs": [
    {
     "name": "stdout",
     "output_type": "stream",
     "text": [
      "El apellido del sexto ciclista es: López\n"
     ]
    }
   ],
   "source": [
    "apellido_sexto_ciclista = response['ciclistas'][5]['apellido']\n",
    "print(f\"El apellido del sexto ciclista es: {apellido_sexto_ciclista}\")"
   ]
  },
  {
   "cell_type": "markdown",
   "metadata": {},
   "source": [
    "#### 12. ¿Cuál es la nacionalidad del último ciclista?"
   ]
  },
  {
   "cell_type": "code",
   "execution_count": 12,
   "metadata": {},
   "outputs": [
    {
     "name": "stdout",
     "output_type": "stream",
     "text": [
      "La nacionalidad del último ciclista es: Español\n"
     ]
    }
   ],
   "source": [
    "nacionalidad_ultimo_ciclista = response['ciclistas'][-1]['nacionalidad']\n",
    "print(f\"La nacionalidad del último ciclista es: {nacionalidad_ultimo_ciclista}\")"
   ]
  },
  {
   "cell_type": "markdown",
   "metadata": {},
   "source": [
    "#### 13. ¿Cuál es la edad media de los ciclistas?"
   ]
  },
  {
   "cell_type": "code",
   "execution_count": 13,
   "metadata": {},
   "outputs": [
    {
     "name": "stdout",
     "output_type": "stream",
     "text": [
      "La edad media de los ciclistas es: 29.90 años\n"
     ]
    }
   ],
   "source": [
    "edades = [c['datos_biometricos']['edad'] for c in response['ciclistas']]\n",
    "edad_media = sum(edades) / len(edades)\n",
    "print(f\"La edad media de los ciclistas es: {edad_media:.2f} años\")"
   ]
  },
  {
   "cell_type": "markdown",
   "metadata": {},
   "source": [
    "#### 14. ¿Cuántas localizaciones diferentes hay?"
   ]
  },
  {
   "cell_type": "code",
   "execution_count": 14,
   "metadata": {},
   "outputs": [
    {
     "name": "stdout",
     "output_type": "stream",
     "text": [
      "El número de localizaciones diferentes es: 10\n"
     ]
    }
   ],
   "source": [
    "cantidad_localizaciones = len(response['localizaciones'])\n",
    "print(f\"El número de localizaciones diferentes es: {cantidad_localizaciones}\")"
   ]
  },
  {
   "cell_type": "markdown",
   "metadata": {},
   "source": [
    "#### 15. ¿Cuál es el nombre de la primera localización?"
   ]
  },
  {
   "cell_type": "code",
   "execution_count": 15,
   "metadata": {},
   "outputs": [
    {
     "name": "stdout",
     "output_type": "stream",
     "text": [
      "El nombre de la primera localización es: París\n"
     ]
    }
   ],
   "source": [
    "nombre_primera_localizacion = response['localizaciones'][0]['nombre']\n",
    "print(f\"El nombre de la primera localización es: {nombre_primera_localizacion}\")"
   ]
  },
  {
   "cell_type": "markdown",
   "metadata": {},
   "source": [
    "#### 16. ¿Cuál es la fecha de la segunda localización?"
   ]
  },
  {
   "cell_type": "code",
   "execution_count": 16,
   "metadata": {},
   "outputs": [
    {
     "name": "stdout",
     "output_type": "stream",
     "text": [
      "La fecha de la segunda localización es: 27/06/2022\n"
     ]
    }
   ],
   "source": [
    "fecha_segunda_localizacion = response['localizaciones'][1]['fecha']\n",
    "print(f\"La fecha de la segunda localización es: {fecha_segunda_localizacion}\")"
   ]
  },
  {
   "cell_type": "markdown",
   "metadata": {},
   "source": [
    "#### 17. ¿Cuál es el tipo de la tercera localización?"
   ]
  },
  {
   "cell_type": "code",
   "execution_count": 17,
   "metadata": {},
   "outputs": [
    {
     "name": "stdout",
     "output_type": "stream",
     "text": [
      "El tipo de la tercera localización es: Etapa\n"
     ]
    }
   ],
   "source": [
    "tipo_tercera_localizacion = response['localizaciones'][2]['tipo']\n",
    "print(f\"El tipo de la tercera localización es: {tipo_tercera_localizacion}\")"
   ]
  },
  {
   "cell_type": "markdown",
   "metadata": {},
   "source": [
    "#### 18. ¿Cuál es la distancia de la cuarta localización?"
   ]
  },
  {
   "cell_type": "code",
   "execution_count": 18,
   "metadata": {},
   "outputs": [
    {
     "name": "stdout",
     "output_type": "stream",
     "text": [
      "La distancia de la cuarta localización es: 220 km\n"
     ]
    }
   ],
   "source": [
    "distancia_cuarta_localizacion = response['localizaciones'][3]['distancia']\n",
    "print(f\"La distancia de la cuarta localización es: {distancia_cuarta_localizacion}\")"
   ]
  },
  {
   "cell_type": "markdown",
   "metadata": {},
   "source": [
    "#### 19. ¿Cuál es la localización con mayor distancia?"
   ]
  },
  {
   "cell_type": "code",
   "execution_count": 19,
   "metadata": {},
   "outputs": [
    {
     "name": "stdout",
     "output_type": "stream",
     "text": [
      "La localización con mayor distancia es: Toulouse\n"
     ]
    }
   ],
   "source": [
    "localizacion_max_distancia = max(\n",
    "    response['localizaciones'],\n",
    "    key=lambda x: int(x['distancia'].split()[0])\n",
    ")['nombre']\n",
    "print(f\"La localización con mayor distancia es: {localizacion_max_distancia}\")"
   ]
  },
  {
   "cell_type": "markdown",
   "metadata": {},
   "source": [
    "#### 20. ¿Cuál es la altitud de la quinta localización?"
   ]
  },
  {
   "cell_type": "code",
   "execution_count": 20,
   "metadata": {},
   "outputs": [
    {
     "name": "stdout",
     "output_type": "stream",
     "text": [
      "La altitud de la quinta localización es: 250 m\n"
     ]
    }
   ],
   "source": [
    "altitud_quinta_localizacion = response['localizaciones'][4]['altitud']\n",
    "print(f\"La altitud de la quinta localización es: {altitud_quinta_localizacion}\")"
   ]
  },
  {
   "cell_type": "markdown",
   "metadata": {},
   "source": [
    "#### 21. ¿Cuál es el nombre de la última localización?"
   ]
  },
  {
   "cell_type": "code",
   "execution_count": 21,
   "metadata": {},
   "outputs": [
    {
     "name": "stdout",
     "output_type": "stream",
     "text": [
      "El nombre de la última localización es: Toulouse\n"
     ]
    }
   ],
   "source": [
    "nombre_ultima_localizacion = response['localizaciones'][-1]['nombre']\n",
    "print(f\"El nombre de la última localización es: {nombre_ultima_localizacion}\")"
   ]
  },
  {
   "cell_type": "markdown",
   "metadata": {},
   "source": [
    "#### 22. ¿Cuál es la fecha de la penúltima localización?"
   ]
  },
  {
   "cell_type": "code",
   "execution_count": 22,
   "metadata": {},
   "outputs": [
    {
     "name": "stdout",
     "output_type": "stream",
     "text": [
      "La fecha de la penúltima localización es: 04/07/2022\n"
     ]
    }
   ],
   "source": [
    "fecha_penultima_localizacion = response['localizaciones'][-2]['fecha']\n",
    "print(f\"La fecha de la penúltima localización es: {fecha_penultima_localizacion}\")"
   ]
  },
  {
   "cell_type": "markdown",
   "metadata": {},
   "source": [
    "#### 23. ¿Cuál es el tipo de la antepenúltima localización?"
   ]
  },
  {
   "cell_type": "code",
   "execution_count": 23,
   "metadata": {},
   "outputs": [
    {
     "name": "stdout",
     "output_type": "stream",
     "text": [
      "El tipo de la antepenúltima localización es: Etapa\n"
     ]
    }
   ],
   "source": [
    "tipo_antepenultima_localizacion = response['localizaciones'][-3]['tipo']\n",
    "print(f\"El tipo de la antepenúltima localización es: {tipo_antepenultima_localizacion}\")"
   ]
  },
  {
   "cell_type": "markdown",
   "metadata": {},
   "source": [
    "#### 24. ¿Cuál es la distancia de la cuarta localización?\n"
   ]
  },
  {
   "cell_type": "code",
   "execution_count": 24,
   "metadata": {},
   "outputs": [
    {
     "name": "stdout",
     "output_type": "stream",
     "text": [
      "La distancia de la cuarta localización es: 220 km\n"
     ]
    }
   ],
   "source": [
    "print(f\"La distancia de la cuarta localización es: {distancia_cuarta_localizacion}\")"
   ]
  }
 ],
 "metadata": {
  "kernelspec": {
   "display_name": "Python 3",
   "language": "python",
   "name": "python3"
  },
  "language_info": {
   "codemirror_mode": {
    "name": "ipython",
    "version": 3
   },
   "file_extension": ".py",
   "mimetype": "text/x-python",
   "name": "python",
   "nbconvert_exporter": "python",
   "pygments_lexer": "ipython3",
   "version": "3.13.0"
  }
 },
 "nbformat": 4,
 "nbformat_minor": 2
}
